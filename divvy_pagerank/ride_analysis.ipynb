{
 "cells": [
  {
   "cell_type": "code",
   "execution_count": 1,
   "metadata": {},
   "outputs": [],
   "source": [
    "from build_graph import ride_graph, compute_pagerank, ride_graph_weekday\n",
    "import plotly\n",
    "import networkx as nx\n",
    "import operator\n",
    "import pandas as pd\n",
    "import os"
   ]
  },
  {
   "cell_type": "code",
   "execution_count": 7,
   "metadata": {},
   "outputs": [],
   "source": [
    "G = ride_graph()\n",
    "pr = compute_pagerank(G, 0.75)"
   ]
  },
  {
   "cell_type": "code",
   "execution_count": 8,
   "metadata": {
    "scrolled": true
   },
   "outputs": [
    {
     "name": "stdout",
     "output_type": "stream",
     "text": [
      "       2      3      4     5      6      7     9     11    12    13\n",
      "2   823.0  175.0   48.0  12.0   80.0    5.0   0.0   0.0   0.0   0.0\n",
      "3   175.0  645.0  117.0  50.0  272.0   70.0   0.0   0.0   2.0   0.0\n",
      "4    59.0  146.0  338.0  15.0  123.0  128.0   0.0   6.0   5.0   0.0\n",
      "5     6.0   33.0    5.0  83.0    5.0   11.0   0.0   0.0   0.0   0.0\n",
      "6    89.0  170.0  136.0  14.0  537.0   42.0   0.0   0.0   0.0   1.0\n",
      "7    14.0   55.0  108.0   8.0   63.0  226.0   0.0   0.0   0.0   2.0\n",
      "9     0.0    0.0    0.0   0.0    0.0    0.0  12.0   0.0   0.0   0.0\n",
      "11    0.0    0.0    1.0   0.0    0.0    0.0   0.0  11.0   5.0   0.0\n",
      "12    0.0    1.0   12.0   0.0    0.0    0.0   0.0   2.0  29.0   0.0\n",
      "13    0.0    1.0    1.0   0.0    0.0    1.0   0.0   0.0   0.0  85.0\n"
     ]
    }
   ],
   "source": [
    "sample_nodes = [2, 3, 4, 5, 6, 7, 9, 11, 12, 13]\n",
    "\n",
    "print(nx.to_pandas_adjacency(G, nodelist=sample_nodes))"
   ]
  },
  {
   "cell_type": "code",
   "execution_count": 13,
   "metadata": {},
   "outputs": [
    {
     "data": {
      "text/plain": [
       "43562"
      ]
     },
     "execution_count": 13,
     "metadata": {},
     "output_type": "execute_result"
    }
   ],
   "source": [
    "G.number_of_selfloops()"
   ]
  },
  {
   "cell_type": "code",
   "execution_count": 17,
   "metadata": {
    "scrolled": true
   },
   "outputs": [
    {
     "name": "stdout",
     "output_type": "stream",
     "text": [
      "number of nodes: 577\n",
      "number of edges: 1059681\n"
     ]
    }
   ],
   "source": [
    "print(\"number of nodes:\", G.number_of_nodes())\n",
    "print(\"number of edges:\", G.size())"
   ]
  },
  {
   "cell_type": "code",
   "execution_count": 44,
   "metadata": {},
   "outputs": [],
   "source": [
    "df_pr = pd.DataFrame(list(pr.items()), columns=[\"station_id\", \"ranking\"])"
   ]
  },
  {
   "cell_type": "code",
   "execution_count": 10,
   "metadata": {},
   "outputs": [],
   "source": [
    "\n"
   ]
  },
  {
   "cell_type": "code",
   "execution_count": 2,
   "metadata": {},
   "outputs": [
    {
     "ename": "NameError",
     "evalue": "name 'df_pr' is not defined",
     "output_type": "error",
     "traceback": [
      "\u001b[0;31m---------------------------------------------------------------------------\u001b[0m",
      "\u001b[0;31mNameError\u001b[0m                                 Traceback (most recent call last)",
      "\u001b[0;32m<ipython-input-2-ea36ffb35137>\u001b[0m in \u001b[0;36m<module>\u001b[0;34m\u001b[0m\n\u001b[0;32m----> 1\u001b[0;31m \u001b[0mdf_pr\u001b[0m\u001b[0;34m.\u001b[0m\u001b[0msort_values\u001b[0m\u001b[0;34m(\u001b[0m\u001b[0;34m\"ranking\"\u001b[0m\u001b[0;34m,\u001b[0m \u001b[0mascending\u001b[0m\u001b[0;34m=\u001b[0m\u001b[0;32mTrue\u001b[0m\u001b[0;34m)\u001b[0m\u001b[0;34m.\u001b[0m\u001b[0mhead\u001b[0m\u001b[0;34m(\u001b[0m\u001b[0;34m)\u001b[0m\u001b[0;34m\u001b[0m\u001b[0m\n\u001b[0m",
      "\u001b[0;31mNameError\u001b[0m: name 'df_pr' is not defined"
     ]
    }
   ],
   "source": [
    "df_pr.sort_values(\"ranking\", ascending=True).head()"
   ]
  },
  {
   "cell_type": "code",
   "execution_count": 5,
   "metadata": {},
   "outputs": [],
   "source": [
    "stat = pd.read_csv(\"../data/station_info.csv\")"
   ]
  },
  {
   "cell_type": "code",
   "execution_count": 17,
   "metadata": {},
   "outputs": [],
   "source": [
    "station_rank = stat.merge(df_pr, how=\"inner\", left_on=\"id\", right_on=\"station_id\")"
   ]
  },
  {
   "cell_type": "code",
   "execution_count": 19,
   "metadata": {},
   "outputs": [],
   "source": [
    "station_rank.to_csv(\"../data/station_ranking.csv\"\n",
    "                    , columns=[\"station_id\", \"stationName\", \"latitude\", \"longitude\", \"ranking\"])"
   ]
  },
  {
   "cell_type": "code",
   "execution_count": 3,
   "metadata": {},
   "outputs": [],
   "source": [
    "weekday_G, weekend_G = ride_graph_weekday()"
   ]
  },
  {
   "cell_type": "code",
   "execution_count": 6,
   "metadata": {},
   "outputs": [],
   "source": [
    "weekday_pr = compute_pagerank(weekday_G, 0.75)\n",
    "df_weekday_pr = pd.DataFrame(list(weekday_pr.items()), columns=[\"station_id\", \"ranking\"])\n",
    "weekday_station_rank = stat.merge(df_weekday_pr, how=\"inner\", left_on=\"id\", right_on=\"station_id\")\n",
    "weekday_station_rank.to_csv(\"../data/weekday_station_ranking.csv\"\n",
    "                    , columns=[\"station_id\", \"stationName\", \"latitude\", \"longitude\", \"ranking\"])"
   ]
  },
  {
   "cell_type": "code",
   "execution_count": 8,
   "metadata": {},
   "outputs": [],
   "source": [
    "weekend_pr = compute_pagerank(weekend_G, 0.75)\n",
    "df_weekend_pr = pd.DataFrame(list(weekend_pr.items()), columns=[\"station_id\", \"ranking\"])\n",
    "weekend_station_rank = stat.merge(df_weekend_pr, how=\"inner\", left_on=\"id\", right_on=\"station_id\")\n",
    "weekend_station_rank.to_csv(\"../data/weekend_station_ranking.csv\"\n",
    "                    , columns=[\"station_id\", \"stationName\", \"latitude\", \"longitude\", \"ranking\"])"
   ]
  },
  {
   "cell_type": "code",
   "execution_count": null,
   "metadata": {},
   "outputs": [],
   "source": []
  }
 ],
 "metadata": {
  "kernelspec": {
   "display_name": "Python 3",
   "language": "python",
   "name": "python3"
  },
  "language_info": {
   "codemirror_mode": {
    "name": "ipython",
    "version": 3
   },
   "file_extension": ".py",
   "mimetype": "text/x-python",
   "name": "python",
   "nbconvert_exporter": "python",
   "pygments_lexer": "ipython3",
   "version": "3.6.6"
  }
 },
 "nbformat": 4,
 "nbformat_minor": 1
}
